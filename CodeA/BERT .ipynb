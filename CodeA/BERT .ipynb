{
 "cells": [
  {
   "cell_type": "markdown",
   "id": "263b6ec8",
   "metadata": {},
   "source": [
    "# BERT "
   ]
  },
  {
   "cell_type": "code",
   "execution_count": 1,
   "id": "7d8c4870",
   "metadata": {},
   "outputs": [],
   "source": [
    "#I acknowledge that this work is my own, and I have\n",
    "#used ChatGPT 3.5 (OpenAI, https://chat.openai.com/) to rectify few of my errors in the code "
   ]
  },
  {
   "cell_type": "code",
   "execution_count": 2,
   "id": "dd11d7c3",
   "metadata": {},
   "outputs": [],
   "source": [
    "#Codes Adapted from:\n",
    "#1. Splitting the data into train, dev, and test splits and converting them into csv files:\n",
    "#           --> https://realpython.com/pandas-dataframe/\n",
    "#           --> https://stackoverflow.com/questions/38250710/how-to-split-data-into-3-sets-train-validation-and-test\n",
    "#           --> https://realpython.com/pandas-dataframe/\n",
    "#2. Code for BERT transformer - Base cased and uncased:\n",
    "#           --> https://huggingface.co/transformers/v3.2.0/custom_datasets.html\n",
    "#           --> https://huggingface.co/docs/transformers/tasks/sequence_classification\n",
    "#           --> https://github.com/dipanjanS/deep_transfer_learning_nlp_dhs2019/tree/master/notebooks\n",
    "#3. Evaluation:\n",
    "#           --> https://www.kaggle.com/code/pritishmishra/text-classification-with-distilbert-92-accuracy\n",
    "#           --> https://huggingface.co/docs/transformers/tasks/sequence_classification"
   ]
  },
  {
   "cell_type": "markdown",
   "id": "1ef8cf5c",
   "metadata": {},
   "source": [
    "**Loading the data**"
   ]
  },
  {
   "cell_type": "code",
   "execution_count": 4,
   "id": "d8141e0d",
   "metadata": {},
   "outputs": [],
   "source": [
    "#Libraries\n",
    "\n",
    "import numpy as np\n",
    "import pandas as pd\n",
    "import nltk\n",
    "import string\n",
    "import os\n",
    "import evaluate\n",
    "import torch\n",
    "\n",
    "\n",
    "from sklearn.model_selection import train_test_split\n",
    "from transformers import DistilBertTokenizerFast"
   ]
  },
  {
   "cell_type": "code",
   "execution_count": 5,
   "id": "73dbfdbc",
   "metadata": {},
   "outputs": [],
   "source": [
    "postive_data_path = \"../CodeA/data/data/pos/\"\n",
    "negative_data_path =\"../CodeA/data/data/neg/\""
   ]
  },
  {
   "cell_type": "code",
   "execution_count": 6,
   "id": "13ea4a10",
   "metadata": {},
   "outputs": [],
   "source": [
    "pos_files = os.listdir(postive_data_path)\n",
    "for f in range(len(pos_files)):\n",
    "    pos_files[f] = postive_data_path + pos_files[f]"
   ]
  },
  {
   "cell_type": "code",
   "execution_count": 7,
   "id": "7d1b6ef0",
   "metadata": {},
   "outputs": [],
   "source": [
    "neg_files = os.listdir(negative_data_path)\n",
    "for f in range(len(neg_files)):\n",
    "    neg_files[f] = negative_data_path + neg_files[f]"
   ]
  },
  {
   "cell_type": "code",
   "execution_count": 8,
   "id": "23d3ac5a",
   "metadata": {},
   "outputs": [],
   "source": [
    "pos_labels = [1]*len(pos_files)\n",
    "neg_labels = [0]*len(neg_files)"
   ]
  },
  {
   "cell_type": "code",
   "execution_count": 9,
   "id": "a66889ef",
   "metadata": {},
   "outputs": [],
   "source": [
    "df = pd.DataFrame(columns=[\"file_names\",\"labels\"])\n",
    "df[\"file_names\"] = pos_files + neg_files\n",
    "df[\"labels\"] = pos_labels + neg_labels"
   ]
  },
  {
   "cell_type": "code",
   "execution_count": 10,
   "id": "839f88a5",
   "metadata": {},
   "outputs": [],
   "source": [
    "#Code to get the contents in those .txt files.\n",
    "\n",
    "def get_data(df):\n",
    "    all_txt = []\n",
    "    for i,j in df.iterrows(): #https://pandas.pydata.org/docs/reference/api/pandas.DataFrame.iterrows.html\n",
    "        with open(j[\"file_names\"],'r', encoding='utf-8') as f: #Asked GPT since there was an error loading the data \n",
    "            txt = f.read()\n",
    "            all_txt.append(txt)\n",
    "#         print(j)\n",
    "    df[\"reviews\"] = all_txt\n",
    "    return df"
   ]
  },
  {
   "cell_type": "code",
   "execution_count": 11,
   "id": "39332cc6",
   "metadata": {},
   "outputs": [],
   "source": [
    "df = get_data(df)"
   ]
  },
  {
   "cell_type": "markdown",
   "id": "4c412c9e",
   "metadata": {},
   "source": [
    "**Splitting the data and converting them into csv files**"
   ]
  },
  {
   "cell_type": "code",
   "execution_count": 12,
   "id": "04a95e32",
   "metadata": {},
   "outputs": [],
   "source": [
    "# Taking 'reviews' and 'labels' columns from the whole dataset\n",
    "data = {'Reviews': df['reviews'],'Labels': df['labels']}\n",
    "df_bert = pd.DataFrame(data)"
   ]
  },
  {
   "cell_type": "code",
   "execution_count": 13,
   "id": "85cd5b42",
   "metadata": {},
   "outputs": [],
   "source": [
    "# Split data into train, dev, and test sets\n",
    "X_train, X_test, y_train, y_test = train_test_split(df_bert['Reviews'], df_bert['Labels'], \n",
    "                                                    test_size=0.2, random_state=42)\n",
    "X_train, X_dev, y_train, y_dev = train_test_split(X_train, y_train, test_size=0.2,\n",
    "                                                  train_size=0.8, random_state=42)\n",
    "\n",
    "train_df = pd.DataFrame({'Reviews': X_train, 'Labels': y_train})\n",
    "dev_df = pd.DataFrame({'Reviews': X_dev, 'Labels': y_dev})\n",
    "test_df = pd.DataFrame({'Reviews': X_test, 'Labels': y_test})\n",
    "\n",
    "# Save to CSV files\n",
    "train_df.to_csv('train.csv', index=False)\n",
    "dev_df.to_csv('dev.csv', index=False)\n",
    "test_df.to_csv('test.csv', index=False)"
   ]
  },
  {
   "cell_type": "markdown",
   "id": "07c35570",
   "metadata": {},
   "source": [
    "**Evaluation**"
   ]
  },
  {
   "cell_type": "code",
   "execution_count": 11,
   "id": "c0215ae8",
   "metadata": {},
   "outputs": [],
   "source": [
    "#To evaluate the performace of the transformer\n",
    "def compute_metrics(eval_pred):\n",
    "    predictions, labels = eval_pred\n",
    "    predictions = np.argmax(predictions, axis=1)\n",
    "    return accuracy.compute(predictions=predictions, references=labels)"
   ]
  },
  {
   "cell_type": "code",
   "execution_count": 12,
   "id": "3c0e4868",
   "metadata": {},
   "outputs": [],
   "source": [
    "accuracy = evaluate.load(\"accuracy\")"
   ]
  },
  {
   "cell_type": "markdown",
   "id": "47a1ada4",
   "metadata": {},
   "source": [
    "**BERT - Base Cased**"
   ]
  },
  {
   "cell_type": "code",
   "execution_count": null,
   "id": "9079c559",
   "metadata": {},
   "outputs": [],
   "source": [
    "#Tokenizer for Cased version of the Base model"
   ]
  },
  {
   "cell_type": "code",
   "execution_count": 13,
   "id": "388d8643",
   "metadata": {},
   "outputs": [],
   "source": [
    "# Load the tokenizer\n",
    "tokenizer = DistilBertTokenizerFast.from_pretrained('distilbert-base-cased')\n",
    "\n",
    "# Tokenize the data\n",
    "train_encodings = tokenizer(train_df['Reviews'].tolist(), truncation=True, padding=True)\n",
    "dev_encodings = tokenizer(dev_df['Reviews'].tolist(), truncation=True, padding=True)\n",
    "test_encodings = tokenizer(test_df['Reviews'].tolist(), truncation=True, padding=True)\n"
   ]
  },
  {
   "cell_type": "code",
   "execution_count": null,
   "id": "e5af2e96",
   "metadata": {},
   "outputs": [],
   "source": [
    "# Class below is created so that PyTorch datasets that can be easily used with a PyTorch DataLoader\n",
    "# during the training process."
   ]
  },
  {
   "cell_type": "code",
   "execution_count": 14,
   "id": "90caddf7",
   "metadata": {},
   "outputs": [],
   "source": [
    "import torch\n",
    "\n",
    "class IMDbDataset(torch.utils.data.Dataset):\n",
    "    def __init__(self, encodings, labels):\n",
    "        self.encodings = encodings\n",
    "        self.labels = labels\n",
    "\n",
    "    def __getitem__(self, idx): #Asked chatGPT\n",
    "        if idx < len(self.labels):\n",
    "            item = {key: torch.tensor(val[idx]) for key, val in self.encodings.items()}\n",
    "            item['labels'] = torch.tensor(self.labels.iloc[idx])  # Use iloc to access the label by index\n",
    "            return item\n",
    "        else:\n",
    "            # Handle the case where the index is out of range\n",
    "            return None  # or raise an exception, depending on your needs\n",
    "\n",
    "    def __len__(self):\n",
    "        return len(self.labels)\n",
    "\n",
    "\n",
    "\n",
    "train_dataset = IMDbDataset(train_encodings, train_df['Labels'])\n",
    "dev_dataset = IMDbDataset(dev_encodings, dev_df['Labels'])\n",
    "test_dataset = IMDbDataset(test_encodings, test_df['Labels'])\n"
   ]
  },
  {
   "cell_type": "code",
   "execution_count": null,
   "id": "0feb1f05",
   "metadata": {},
   "outputs": [],
   "source": []
  },
  {
   "cell_type": "code",
   "execution_count": 15,
   "id": "be02de62",
   "metadata": {},
   "outputs": [
    {
     "name": "stderr",
     "output_type": "stream",
     "text": [
      "Some weights of DistilBertForSequenceClassification were not initialized from the model checkpoint at distilbert-base-cased and are newly initialized: ['pre_classifier.weight', 'classifier.weight', 'classifier.bias', 'pre_classifier.bias']\n",
      "You should probably TRAIN this model on a down-stream task to be able to use it for predictions and inference.\n"
     ]
    },
    {
     "data": {
      "text/html": [
       "\n",
       "    <div>\n",
       "      \n",
       "      <progress value='160' max='160' style='width:300px; height:20px; vertical-align: middle;'></progress>\n",
       "      [160/160 1:18:18, Epoch 1/1]\n",
       "    </div>\n",
       "    <table border=\"1\" class=\"dataframe\">\n",
       "  <thead>\n",
       " <tr style=\"text-align: left;\">\n",
       "      <th>Step</th>\n",
       "      <th>Training Loss</th>\n",
       "    </tr>\n",
       "  </thead>\n",
       "  <tbody>\n",
       "    <tr>\n",
       "      <td>10</td>\n",
       "      <td>0.714100</td>\n",
       "    </tr>\n",
       "    <tr>\n",
       "      <td>20</td>\n",
       "      <td>0.695400</td>\n",
       "    </tr>\n",
       "    <tr>\n",
       "      <td>30</td>\n",
       "      <td>0.705800</td>\n",
       "    </tr>\n",
       "    <tr>\n",
       "      <td>40</td>\n",
       "      <td>0.684500</td>\n",
       "    </tr>\n",
       "    <tr>\n",
       "      <td>50</td>\n",
       "      <td>0.678900</td>\n",
       "    </tr>\n",
       "    <tr>\n",
       "      <td>60</td>\n",
       "      <td>0.669400</td>\n",
       "    </tr>\n",
       "    <tr>\n",
       "      <td>70</td>\n",
       "      <td>0.638000</td>\n",
       "    </tr>\n",
       "    <tr>\n",
       "      <td>80</td>\n",
       "      <td>0.630500</td>\n",
       "    </tr>\n",
       "    <tr>\n",
       "      <td>90</td>\n",
       "      <td>0.574300</td>\n",
       "    </tr>\n",
       "    <tr>\n",
       "      <td>100</td>\n",
       "      <td>0.498000</td>\n",
       "    </tr>\n",
       "    <tr>\n",
       "      <td>110</td>\n",
       "      <td>0.485500</td>\n",
       "    </tr>\n",
       "    <tr>\n",
       "      <td>120</td>\n",
       "      <td>0.454300</td>\n",
       "    </tr>\n",
       "    <tr>\n",
       "      <td>130</td>\n",
       "      <td>0.413100</td>\n",
       "    </tr>\n",
       "    <tr>\n",
       "      <td>140</td>\n",
       "      <td>0.408400</td>\n",
       "    </tr>\n",
       "    <tr>\n",
       "      <td>150</td>\n",
       "      <td>0.368600</td>\n",
       "    </tr>\n",
       "    <tr>\n",
       "      <td>160</td>\n",
       "      <td>0.384000</td>\n",
       "    </tr>\n",
       "  </tbody>\n",
       "</table><p>"
      ],
      "text/plain": [
       "<IPython.core.display.HTML object>"
      ]
     },
     "metadata": {},
     "output_type": "display_data"
    },
    {
     "data": {
      "text/plain": [
       "TrainOutput(global_step=160, training_loss=0.5626773908734322, metrics={'train_runtime': 4737.3547, 'train_samples_per_second': 0.54, 'train_steps_per_second': 0.034, 'total_flos': 339116540559360.0, 'train_loss': 0.5626773908734322, 'epoch': 1.0})"
      ]
     },
     "execution_count": 15,
     "metadata": {},
     "output_type": "execute_result"
    }
   ],
   "source": [
    "#Training the transformer for Base Cased\n",
    "from transformers import DistilBertForSequenceClassification, Trainer, TrainingArguments\n",
    "\n",
    "training_args = TrainingArguments(\n",
    "    output_dir='./results',\n",
    "    num_train_epochs=1,\n",
    "    per_device_train_batch_size=16,\n",
    "    per_device_eval_batch_size=64,\n",
    "    learning_rate=1e-5,\n",
    "    warmup_steps=10,\n",
    "    weight_decay=0.01,\n",
    "    logging_dir='./logs',\n",
    "    logging_steps=10,\n",
    ")\n",
    "\n",
    "model = DistilBertForSequenceClassification.from_pretrained(\"distilbert-base-cased\")\n",
    "\n",
    "trainer = Trainer(\n",
    "    model=model,\n",
    "    args=training_args,\n",
    "    train_dataset=train_dataset,\n",
    "    eval_dataset=dev_dataset,\n",
    "    compute_metrics=compute_metrics\n",
    ")\n",
    "\n",
    "trainer.train()\n"
   ]
  },
  {
   "cell_type": "markdown",
   "id": "c1881328",
   "metadata": {},
   "source": [
    "**Evaluating the performance of the model**"
   ]
  },
  {
   "cell_type": "code",
   "execution_count": null,
   "id": "8dfbf696",
   "metadata": {},
   "outputs": [],
   "source": [
    "#Evaluating on Dev dataset"
   ]
  },
  {
   "cell_type": "code",
   "execution_count": 16,
   "id": "9585c93c",
   "metadata": {},
   "outputs": [
    {
     "data": {
      "text/html": [],
      "text/plain": [
       "<IPython.core.display.HTML object>"
      ]
     },
     "metadata": {},
     "output_type": "display_data"
    },
    {
     "data": {
      "text/plain": [
       "{'eval_loss': 0.36846449971199036,\n",
       " 'eval_accuracy': 0.865625,\n",
       " 'eval_runtime': 482.9082,\n",
       " 'eval_samples_per_second': 1.325,\n",
       " 'eval_steps_per_second': 0.021,\n",
       " 'epoch': 1.0}"
      ]
     },
     "execution_count": 16,
     "metadata": {},
     "output_type": "execute_result"
    }
   ],
   "source": [
    "trainer.evaluate()"
   ]
  },
  {
   "cell_type": "code",
   "execution_count": null,
   "id": "a8629c58",
   "metadata": {},
   "outputs": [],
   "source": []
  },
  {
   "cell_type": "code",
   "execution_count": null,
   "id": "a4df9091",
   "metadata": {},
   "outputs": [],
   "source": [
    "#Evaluating on the test dataset"
   ]
  },
  {
   "cell_type": "code",
   "execution_count": 20,
   "id": "77ad84b1",
   "metadata": {},
   "outputs": [],
   "source": [
    "pred_test = trainer.predict(test_dataset)"
   ]
  },
  {
   "cell_type": "code",
   "execution_count": 21,
   "id": "eea5c0b6",
   "metadata": {},
   "outputs": [
    {
     "data": {
      "text/plain": [
       "{'test_loss': 0.38908982276916504,\n",
       " 'test_accuracy': 0.845,\n",
       " 'test_runtime': 621.418,\n",
       " 'test_samples_per_second': 1.287,\n",
       " 'test_steps_per_second': 0.021}"
      ]
     },
     "execution_count": 21,
     "metadata": {},
     "output_type": "execute_result"
    }
   ],
   "source": [
    "pred_test.metrics"
   ]
  },
  {
   "cell_type": "code",
   "execution_count": null,
   "id": "6ba5279c",
   "metadata": {},
   "outputs": [],
   "source": []
  },
  {
   "cell_type": "markdown",
   "id": "d684fdd3",
   "metadata": {},
   "source": [
    "**BERT - Base Uncased**"
   ]
  },
  {
   "cell_type": "code",
   "execution_count": null,
   "id": "7bf49bb6",
   "metadata": {},
   "outputs": [],
   "source": [
    "#Tokenizer for Uncased version of the Base model"
   ]
  },
  {
   "cell_type": "code",
   "execution_count": 22,
   "id": "667f7e80",
   "metadata": {},
   "outputs": [],
   "source": [
    "from transformers import DistilBertTokenizerFast\n",
    "tokenizer1 = DistilBertTokenizerFast.from_pretrained('distilbert-base-uncased')"
   ]
  },
  {
   "cell_type": "code",
   "execution_count": 23,
   "id": "781a5ba2",
   "metadata": {},
   "outputs": [],
   "source": [
    "train_encodings1 = tokenizer1(train_df['Reviews'].tolist(), truncation=True, padding=True)\n",
    "dev_encodings1 = tokenizer1(dev_df['Reviews'].tolist(), truncation=True, padding=True)\n",
    "test_encodings1 = tokenizer1(test_df['Reviews'].tolist(), truncation=True, padding=True)"
   ]
  },
  {
   "cell_type": "code",
   "execution_count": 24,
   "id": "78f41844",
   "metadata": {},
   "outputs": [],
   "source": [
    "# Class below is created so that PyTorch datasets that can be easily used with a PyTorch DataLoader\n",
    "# during the training process."
   ]
  },
  {
   "cell_type": "code",
   "execution_count": 25,
   "id": "29c302b7",
   "metadata": {},
   "outputs": [],
   "source": [
    "import torch\n",
    "\n",
    "class IMDbDataset(torch.utils.data.Dataset):\n",
    "    def __init__(self, encodings, labels):\n",
    "        self.encodings = encodings\n",
    "        self.labels = labels\n",
    "\n",
    "    def __getitem__(self, idx): #Asked chatGPT\n",
    "        if idx < len(self.labels):\n",
    "            item = {key: torch.tensor(val[idx]) for key, val in self.encodings.items()}\n",
    "            item['labels'] = torch.tensor(self.labels.iloc[idx])  # Use iloc to access the label by index\n",
    "            return item\n",
    "        else:\n",
    "            # Handle the case where the index is out of range\n",
    "            return None  # or raise an exception, depending on your needs\n",
    "\n",
    "    def __len__(self):\n",
    "        return len(self.labels)\n",
    "\n",
    "\n",
    "train_dataset1 = IMDbDataset(train_encodings1, train_df['Labels'])\n",
    "dev_dataset1 = IMDbDataset(dev_encodings1, dev_df['Labels'])\n",
    "test_dataset1 = IMDbDataset(test_encodings1, test_df['Labels'])"
   ]
  },
  {
   "cell_type": "code",
   "execution_count": null,
   "id": "b2fd9ab4",
   "metadata": {},
   "outputs": [],
   "source": []
  },
  {
   "cell_type": "code",
   "execution_count": 26,
   "id": "5f4c5b82",
   "metadata": {},
   "outputs": [
    {
     "name": "stderr",
     "output_type": "stream",
     "text": [
      "Some weights of DistilBertForSequenceClassification were not initialized from the model checkpoint at distilbert-base-uncased and are newly initialized: ['pre_classifier.weight', 'classifier.weight', 'classifier.bias', 'pre_classifier.bias']\n",
      "You should probably TRAIN this model on a down-stream task to be able to use it for predictions and inference.\n"
     ]
    },
    {
     "data": {
      "text/html": [
       "\n",
       "    <div>\n",
       "      \n",
       "      <progress value='160' max='160' style='width:300px; height:20px; vertical-align: middle;'></progress>\n",
       "      [160/160 1:32:00, Epoch 1/1]\n",
       "    </div>\n",
       "    <table border=\"1\" class=\"dataframe\">\n",
       "  <thead>\n",
       " <tr style=\"text-align: left;\">\n",
       "      <th>Step</th>\n",
       "      <th>Training Loss</th>\n",
       "    </tr>\n",
       "  </thead>\n",
       "  <tbody>\n",
       "    <tr>\n",
       "      <td>10</td>\n",
       "      <td>0.700400</td>\n",
       "    </tr>\n",
       "    <tr>\n",
       "      <td>20</td>\n",
       "      <td>0.684800</td>\n",
       "    </tr>\n",
       "    <tr>\n",
       "      <td>30</td>\n",
       "      <td>0.698900</td>\n",
       "    </tr>\n",
       "    <tr>\n",
       "      <td>40</td>\n",
       "      <td>0.676700</td>\n",
       "    </tr>\n",
       "    <tr>\n",
       "      <td>50</td>\n",
       "      <td>0.669900</td>\n",
       "    </tr>\n",
       "    <tr>\n",
       "      <td>60</td>\n",
       "      <td>0.655200</td>\n",
       "    </tr>\n",
       "    <tr>\n",
       "      <td>70</td>\n",
       "      <td>0.606800</td>\n",
       "    </tr>\n",
       "    <tr>\n",
       "      <td>80</td>\n",
       "      <td>0.559300</td>\n",
       "    </tr>\n",
       "    <tr>\n",
       "      <td>90</td>\n",
       "      <td>0.495700</td>\n",
       "    </tr>\n",
       "    <tr>\n",
       "      <td>100</td>\n",
       "      <td>0.471300</td>\n",
       "    </tr>\n",
       "    <tr>\n",
       "      <td>110</td>\n",
       "      <td>0.446600</td>\n",
       "    </tr>\n",
       "    <tr>\n",
       "      <td>120</td>\n",
       "      <td>0.431400</td>\n",
       "    </tr>\n",
       "    <tr>\n",
       "      <td>130</td>\n",
       "      <td>0.400900</td>\n",
       "    </tr>\n",
       "    <tr>\n",
       "      <td>140</td>\n",
       "      <td>0.373900</td>\n",
       "    </tr>\n",
       "    <tr>\n",
       "      <td>150</td>\n",
       "      <td>0.356500</td>\n",
       "    </tr>\n",
       "    <tr>\n",
       "      <td>160</td>\n",
       "      <td>0.375000</td>\n",
       "    </tr>\n",
       "  </tbody>\n",
       "</table><p>"
      ],
      "text/plain": [
       "<IPython.core.display.HTML object>"
      ]
     },
     "metadata": {},
     "output_type": "display_data"
    },
    {
     "data": {
      "text/plain": [
       "TrainOutput(global_step=160, training_loss=0.5377102971076966, metrics={'train_runtime': 5549.9936, 'train_samples_per_second': 0.461, 'train_steps_per_second': 0.029, 'total_flos': 339116540559360.0, 'train_loss': 0.5377102971076966, 'epoch': 1.0})"
      ]
     },
     "execution_count": 26,
     "metadata": {},
     "output_type": "execute_result"
    }
   ],
   "source": [
    "#Training the transformer for Base UnCased\n",
    "from transformers import DistilBertForSequenceClassification, Trainer, TrainingArguments\n",
    "\n",
    "training_args = TrainingArguments(\n",
    "    output_dir='./results',\n",
    "    num_train_epochs=1,\n",
    "    per_device_train_batch_size=16,\n",
    "    per_device_eval_batch_size=64,\n",
    "    learning_rate=1e-5,\n",
    "    warmup_steps=10,\n",
    "    weight_decay=0.01,\n",
    "    logging_dir='./logs',\n",
    "    logging_steps=10,\n",
    ")\n",
    "\n",
    "model = DistilBertForSequenceClassification.from_pretrained(\"distilbert-base-uncased\")\n",
    "\n",
    "trainer = Trainer(\n",
    "    model=model,\n",
    "    args=training_args,\n",
    "    train_dataset=train_dataset1,\n",
    "    eval_dataset=dev_dataset1,\n",
    "    compute_metrics=compute_metrics\n",
    ")\n",
    "\n",
    "trainer.train()"
   ]
  },
  {
   "cell_type": "markdown",
   "id": "82f9d99e",
   "metadata": {},
   "source": [
    "**Evaluating the performance of the model**"
   ]
  },
  {
   "cell_type": "code",
   "execution_count": null,
   "id": "758af9de",
   "metadata": {},
   "outputs": [],
   "source": [
    "#Evaluating on Dev dataset"
   ]
  },
  {
   "cell_type": "code",
   "execution_count": 27,
   "id": "4c565bbb",
   "metadata": {},
   "outputs": [
    {
     "data": {
      "text/html": [],
      "text/plain": [
       "<IPython.core.display.HTML object>"
      ]
     },
     "metadata": {},
     "output_type": "display_data"
    },
    {
     "data": {
      "text/plain": [
       "{'eval_loss': 0.3671916127204895,\n",
       " 'eval_accuracy': 0.875,\n",
       " 'eval_runtime': 480.8928,\n",
       " 'eval_samples_per_second': 1.331,\n",
       " 'eval_steps_per_second': 0.021,\n",
       " 'epoch': 1.0}"
      ]
     },
     "execution_count": 27,
     "metadata": {},
     "output_type": "execute_result"
    }
   ],
   "source": [
    "trainer.evaluate()"
   ]
  },
  {
   "cell_type": "code",
   "execution_count": null,
   "id": "913159f1",
   "metadata": {},
   "outputs": [],
   "source": [
    "#Evaluating on the Test dataset"
   ]
  },
  {
   "cell_type": "code",
   "execution_count": 28,
   "id": "3cb110aa",
   "metadata": {},
   "outputs": [],
   "source": [
    "pred_test1 = trainer.predict(test_dataset1)"
   ]
  },
  {
   "cell_type": "code",
   "execution_count": 29,
   "id": "e2c1e9e3",
   "metadata": {},
   "outputs": [
    {
     "data": {
      "text/plain": [
       "{'test_loss': 0.367340087890625,\n",
       " 'test_accuracy': 0.87875,\n",
       " 'test_runtime': 608.4871,\n",
       " 'test_samples_per_second': 1.315,\n",
       " 'test_steps_per_second': 0.021}"
      ]
     },
     "execution_count": 29,
     "metadata": {},
     "output_type": "execute_result"
    }
   ],
   "source": [
    "pred_test1.metrics"
   ]
  },
  {
   "cell_type": "code",
   "execution_count": null,
   "id": "0436de35",
   "metadata": {},
   "outputs": [],
   "source": []
  }
 ],
 "metadata": {
  "kernelspec": {
   "display_name": "Python 3",
   "language": "python",
   "name": "python3"
  },
  "language_info": {
   "codemirror_mode": {
    "name": "ipython",
    "version": 3
   },
   "file_extension": ".py",
   "mimetype": "text/x-python",
   "name": "python",
   "nbconvert_exporter": "python",
   "pygments_lexer": "ipython3",
   "version": "3.8.8"
  }
 },
 "nbformat": 4,
 "nbformat_minor": 5
}
